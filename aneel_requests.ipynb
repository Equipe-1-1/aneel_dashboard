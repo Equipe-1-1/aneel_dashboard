{
 "cells": [
  {
   "cell_type": "markdown",
   "id": "8b22900d-b688-4c9c-b5fe-6dcbac5f8848",
   "metadata": {},
   "source": [
    "# ANEEL Public API Data"
   ]
  },
  {
   "cell_type": "markdown",
   "id": "605217bb-f800-44c3-a98e-0acdd4b92391",
   "metadata": {},
   "source": [
    "## Importing libraries"
   ]
  },
  {
   "cell_type": "code",
   "execution_count": 1,
   "id": "12c53365-c650-4424-a0c9-b4c91656a8c9",
   "metadata": {},
   "outputs": [],
   "source": [
    "import requests\n",
    "import polars as pl\n",
    "from datetime import datetime as time"
   ]
  },
  {
   "cell_type": "markdown",
   "id": "bfdaa274-b930-43bd-a87f-b26882dd3eac",
   "metadata": {},
   "source": [
    "## Defining a class\n",
    "Just to deal with the data"
   ]
  },
  {
   "cell_type": "code",
   "execution_count": 2,
   "id": "9f2beaed-ae9e-4aac-b9cb-63e6ac3c699f",
   "metadata": {},
   "outputs": [],
   "source": [
    "class DataHandler:\n",
    "    def __init__(self):\n",
    "        self.base_url = \"https://dadosabertos.aneel.gov.br\"\n",
    "        self.result_total = self.get_result_total()\n",
    "\n",
    "    \n",
    "    def get_result_total(self) -> str:\n",
    "        url = self.get_initial_url(0)\n",
    "        answer = requests.get(url).json()\n",
    "        return answer.get(\"result\").get(\"total\")\n",
    "\n",
    "    \n",
    "    def get_initial_url(self, limit: int) -> str:\n",
    "        return f\"{self.base_url}/api/3/action/datastore_search\" + \\\n",
    "            f\"?resource_id=b1bd71e7-d0ad-4214-9053-cbd58e9564a7&limit={limit}\"\n",
    "\n",
    "    \n",
    "    def load_data(self) -> pl.LazyFrame:        \n",
    "        url = self.get_initial_url(self.result_total)\n",
    "        \n",
    "        answer = requests.get(url).json()\n",
    "        \n",
    "        records = answer.get(\"result\").get(\"records\")\n",
    "        records = [f\"{record}\\n\" for record in records]\n",
    "        \n",
    "        return pl.scan_ndjson(records)\n",
    "\n",
    "    def get_df(self, lf: pl.LazyFrame):\n",
    "        lf\n",
    "    \n",
    "    # Currently not being needed.\n",
    "    # In case pagination become attractive just use it.\n",
    "    def load_data_batch(self,\n",
    "        batch_size: int = 100,\n",
    "        url: str = \"\",\n",
    "        request_offset: int = 0,\n",
    "        lazyframes: [pl.LazyFrame] = []\n",
    "    ) -> pl.LazyFrame:\n",
    "\n",
    "\n",
    "        init_time = datetime.datetime.now()\n",
    "        if not url:\n",
    "            url = self.get_initial_url(self.request_limit)\n",
    "        \n",
    "        \n",
    "        number_of_records = request_offset + batch_size\n",
    "        print(f\"Loaded: {number_of_records}/{answer.get(\"result\").get(\"total\")}\")\n",
    "\n",
    "        \n",
    "        answer = requests.get(url).json()\n",
    "        \n",
    "        records = answer.get(\"result\").get(\"records\")\n",
    "        records = [f\"{record}\\n\" for record in records]\n",
    "        lazyframes.append(\n",
    "            pl.scan_ndjson(records)\n",
    "        )\n",
    "\n",
    "\n",
    "        if (\n",
    "            number_of_records >=\n",
    "            answer.get(\"result\").get(\"total\")\n",
    "        ):\n",
    "            print(f\"Time: {datetime.datetime.now() - init_time}\")\n",
    "\n",
    "            return pl.concat(lazyframes)\n",
    "\n",
    "        else:            \n",
    "            url = self.base_url + answer.get(\"result\").get(\"_links\").get(\"next\")\n",
    "            request_offset += self.request_limit\n",
    "\n",
    "\n",
    "            print(f\"Time: {datetime.datetime.now() - init_time}\")\n",
    "            self.load_data(url, request_offset, lazyframes)"
   ]
  },
  {
   "cell_type": "markdown",
   "id": "42e7f1c0-c31e-42a7-acd9-a20428e8c33f",
   "metadata": {},
   "source": [
    "## Putting it into work"
   ]
  },
  {
   "cell_type": "code",
   "execution_count": 3,
   "id": "b4debee1-425b-4f51-84f7-df47c6b2d97a",
   "metadata": {},
   "outputs": [
    {
     "name": "stdout",
     "output_type": "stream",
     "text": [
      "First request: 0:00:00.814021;\n",
      "Second request: 0:00:12.919415;\n",
      "Total: 0:00:13.733436\n"
     ]
    }
   ],
   "source": [
    "initial_time = time.now()\n",
    "\n",
    "dd = DataHandler()\n",
    "first_request_time = time.now()\n",
    "\n",
    "lf = dd.load_data()\n",
    "final_time = time.now()\n",
    "\n",
    "print(f\"First request: {first_request_time - initial_time};\\n\" +\n",
    "        f\"Second request: {final_time - first_request_time};\\n\" +\n",
    "        f\"Total: {final_time - initial_time}\")"
   ]
  },
  {
   "cell_type": "markdown",
   "id": "ca745adf-07cc-4095-9a5b-a5bda4c9a9ef",
   "metadata": {},
   "source": [
    "## Code for manualy testing the API"
   ]
  },
  {
   "cell_type": "code",
   "execution_count": 4,
   "id": "be168b5f-1cfe-4e08-92a0-99784a6f17fd",
   "metadata": {
    "scrolled": true
   },
   "outputs": [],
   "source": [
    "BASE_URL = \"https://dadosabertos.aneel.gov.br/api/3/action/datastore_search\"\n",
    "\n",
    "params = {\n",
    "    \"resource_id\": 'b1bd71e7-d0ad-4214-9053-cbd58e9564a7',\n",
    "    \"limit\": 2,\n",
    "    \"offset\": 0,\n",
    "}\n",
    "r = requests.get(BASE_URL, params=params).json()"
   ]
  },
  {
   "cell_type": "code",
   "execution_count": 5,
   "id": "ef36661c-b8a4-4db5-848e-d292828ccbbd",
   "metadata": {
    "scrolled": true
   },
   "outputs": [
    {
     "data": {
      "text/plain": [
       "{'help': 'https://dadosabertos.aneel.gov.br/api/3/action/help_show?name=datastore_search',\n",
       " 'success': True,\n",
       " 'result': {'include_total': True,\n",
       "  'limit': 2,\n",
       "  'offset': 0,\n",
       "  'records_format': 'objects',\n",
       "  'resource_id': 'b1bd71e7-d0ad-4214-9053-cbd58e9564a7',\n",
       "  'total_estimation_threshold': None,\n",
       "  'records': [{'_id': 1,\n",
       "    'DatGeracaoConjuntoDados': '2025-06-09',\n",
       "    'AnmPeriodoReferencia': '06/2025',\n",
       "    'NumCNPJDistribuidora': '08336783000190',\n",
       "    'SigAgente': 'CELESC-DIS',\n",
       "    'NomAgente': 'CELESC DISTRIBUICAO S.A',\n",
       "    'CodClasseConsumo': '3',\n",
       "    'DscClasseConsumo': 'Rural',\n",
       "    'CodSubGrupoTarifario': '10',\n",
       "    'DscSubGrupoTarifario': 'B2',\n",
       "    'CodUFibge': '42',\n",
       "    'SigUF': 'SC',\n",
       "    'CodRegiao': '4202',\n",
       "    'NomRegiao': 'Sul',\n",
       "    'CodMunicipioIbge': '4204509',\n",
       "    'NomMunicipio': 'Corupá',\n",
       "    'CodCEP': '89278***',\n",
       "    'SigTipoConsumidor': 'PF',\n",
       "    'NumCPFCNPJ': '***.371.499-**',\n",
       "    'NomTitularEmpreendimento': '***',\n",
       "    'CodEmpreendimento': '',\n",
       "    'DthAtualizaCadastralEmpreend': '2024-02-01',\n",
       "    'SigModalidadeEmpreendimento': 'P',\n",
       "    'DscModalidadeHabilitado': 'Com Microgeracao ou Minigeracao distribuida',\n",
       "    'QtdUCRecebeCredito': '1',\n",
       "    'SigTipoGeracao': 'UFV',\n",
       "    'DscFonteGeracao': 'Radiação solar',\n",
       "    'DscPorte': 'Microgeracao',\n",
       "    'NumCoordNEmpreendimento': '-5,06',\n",
       "    'NumCoordEEmpreendimento': '-42,78',\n",
       "    'MdaPotenciaInstaladaKW': '6,00',\n",
       "    'NomSubEstacao': '',\n",
       "    'NumCoordESub': '',\n",
       "    'NumCoordNSub': ''},\n",
       "   {'_id': 2,\n",
       "    'DatGeracaoConjuntoDados': '2025-06-09',\n",
       "    'AnmPeriodoReferencia': '06/2025',\n",
       "    'NumCNPJDistribuidora': '08336783000190',\n",
       "    'SigAgente': 'CELESC-DIS',\n",
       "    'NomAgente': 'CELESC DISTRIBUICAO S.A',\n",
       "    'CodClasseConsumo': '1',\n",
       "    'DscClasseConsumo': 'Residencial',\n",
       "    'CodSubGrupoTarifario': '9',\n",
       "    'DscSubGrupoTarifario': 'B1',\n",
       "    'CodUFibge': '42',\n",
       "    'SigUF': 'SC',\n",
       "    'CodRegiao': '4202',\n",
       "    'NomRegiao': 'Sul',\n",
       "    'CodMunicipioIbge': '4217402',\n",
       "    'NomMunicipio': 'Schroeder',\n",
       "    'CodCEP': '89275***',\n",
       "    'SigTipoConsumidor': 'PF',\n",
       "    'NumCPFCNPJ': '***.744.159-**',\n",
       "    'NomTitularEmpreendimento': '***',\n",
       "    'CodEmpreendimento': '',\n",
       "    'DthAtualizaCadastralEmpreend': '2024-02-01',\n",
       "    'SigModalidadeEmpreendimento': 'P',\n",
       "    'DscModalidadeHabilitado': 'Com Microgeracao ou Minigeracao distribuida',\n",
       "    'QtdUCRecebeCredito': '1',\n",
       "    'SigTipoGeracao': 'UFV',\n",
       "    'DscFonteGeracao': 'Radiação solar',\n",
       "    'DscPorte': 'Microgeracao',\n",
       "    'NumCoordNEmpreendimento': '-5,06',\n",
       "    'NumCoordEEmpreendimento': '-42,78',\n",
       "    'MdaPotenciaInstaladaKW': '5,00',\n",
       "    'NomSubEstacao': '',\n",
       "    'NumCoordESub': '',\n",
       "    'NumCoordNSub': ''}],\n",
       "  'fields': [{'id': '_id', 'type': 'int'},\n",
       "   {'id': 'DatGeracaoConjuntoDados', 'type': 'text'},\n",
       "   {'id': 'AnmPeriodoReferencia', 'type': 'text'},\n",
       "   {'id': 'NumCNPJDistribuidora', 'type': 'text'},\n",
       "   {'id': 'SigAgente', 'type': 'text'},\n",
       "   {'id': 'NomAgente', 'type': 'text'},\n",
       "   {'id': 'CodClasseConsumo', 'type': 'text'},\n",
       "   {'id': 'DscClasseConsumo', 'type': 'text'},\n",
       "   {'id': 'CodSubGrupoTarifario', 'type': 'text'},\n",
       "   {'id': 'DscSubGrupoTarifario', 'type': 'text'},\n",
       "   {'id': 'CodUFibge', 'type': 'text'},\n",
       "   {'id': 'SigUF', 'type': 'text'},\n",
       "   {'id': 'CodRegiao', 'type': 'text'},\n",
       "   {'id': 'NomRegiao', 'type': 'text'},\n",
       "   {'id': 'CodMunicipioIbge', 'type': 'text'},\n",
       "   {'id': 'NomMunicipio', 'type': 'text'},\n",
       "   {'id': 'CodCEP', 'type': 'text'},\n",
       "   {'id': 'SigTipoConsumidor', 'type': 'text'},\n",
       "   {'id': 'NumCPFCNPJ', 'type': 'text'},\n",
       "   {'id': 'NomTitularEmpreendimento', 'type': 'text'},\n",
       "   {'id': 'CodEmpreendimento', 'type': 'text'},\n",
       "   {'id': 'DthAtualizaCadastralEmpreend', 'type': 'text'},\n",
       "   {'id': 'SigModalidadeEmpreendimento', 'type': 'text'},\n",
       "   {'id': 'DscModalidadeHabilitado', 'type': 'text'},\n",
       "   {'id': 'QtdUCRecebeCredito', 'type': 'text'},\n",
       "   {'id': 'SigTipoGeracao', 'type': 'text'},\n",
       "   {'id': 'DscFonteGeracao', 'type': 'text'},\n",
       "   {'id': 'DscPorte', 'type': 'text'},\n",
       "   {'id': 'NumCoordNEmpreendimento', 'type': 'text'},\n",
       "   {'id': 'NumCoordEEmpreendimento', 'type': 'text'},\n",
       "   {'id': 'MdaPotenciaInstaladaKW', 'type': 'text'},\n",
       "   {'id': 'NomSubEstacao', 'type': 'text'},\n",
       "   {'id': 'NumCoordESub', 'type': 'text'},\n",
       "   {'id': 'NumCoordNSub', 'type': 'text'}],\n",
       "  '_links': {'start': '/api/3/action/datastore_search?resource_id=b1bd71e7-d0ad-4214-9053-cbd58e9564a7&limit=2',\n",
       "   'next': '/api/3/action/datastore_search?resource_id=b1bd71e7-d0ad-4214-9053-cbd58e9564a7&limit=2&offset=2'},\n",
       "  'total': 3571612,\n",
       "  'total_was_estimated': False}}"
      ]
     },
     "execution_count": 5,
     "metadata": {},
     "output_type": "execute_result"
    }
   ],
   "source": [
    "r#.get(\"next\")#.json()#.get(\"result\").get(\"total\")"
   ]
  },
  {
   "cell_type": "code",
   "execution_count": null,
   "id": "94f63270-ec39-4525-b952-cc1baa05fff3",
   "metadata": {},
   "outputs": [],
   "source": []
  }
 ],
 "metadata": {
  "kernelspec": {
   "display_name": "Python 3 (ipykernel)",
   "language": "python",
   "name": "python3"
  },
  "language_info": {
   "codemirror_mode": {
    "name": "ipython",
    "version": 3
   },
   "file_extension": ".py",
   "mimetype": "text/x-python",
   "name": "python",
   "nbconvert_exporter": "python",
   "pygments_lexer": "ipython3",
   "version": "3.12.3"
  }
 },
 "nbformat": 4,
 "nbformat_minor": 5
}
